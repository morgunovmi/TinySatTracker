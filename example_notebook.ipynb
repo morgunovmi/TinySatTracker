{
 "cells": [
  {
   "cell_type": "code",
   "execution_count": 22,
   "id": "f311d445",
   "metadata": {},
   "outputs": [],
   "source": [
    "import numpy as np\n",
    "import math\n",
    "\n",
    "import requests as req\n",
    "\n",
    "from sgp4.api import Satrec, jday\n",
    "\n",
    "import skyfield.sgp4lib as sgp4lib\n",
    "from skyfield import api\n",
    "\n",
    "from datetime import datetime, timedelta\n",
    "import pytz\n",
    "\n",
    "import matplotlib.pyplot as plt\n",
    "from dateutil import rrule\n",
    "from operator import itemgetter"
   ]
  },
  {
   "cell_type": "code",
   "execution_count": 23,
   "id": "29b5c798",
   "metadata": {},
   "outputs": [],
   "source": [
    "def latLonToEcef(lat, lon, alt):\n",
    "    a = 6378137.0\n",
    "    b = 6356752.3142\n",
    "    \n",
    "    rad_lat = np.deg2rad(lat)\n",
    "    rad_lon = np.deg2rad(lon)\n",
    "    \n",
    "    N = a ** 2 / np.sqrt(a ** 2 * np.cos(rad_lat) ** 2 + b ** 2 * np.sin(rad_lat) ** 2)\n",
    "    \n",
    "    x = (N + alt) * np.cos(rad_lat) * np.cos(rad_lon)\n",
    "    y = (N + alt) * np.cos(rad_lat) * np.sin(rad_lon)\n",
    "    z = (b ** 2 / a ** 2 * N + alt) * np.sin(rad_lat)\n",
    "    \n",
    "    return x, y, z"
   ]
  },
  {
   "cell_type": "code",
   "execution_count": 24,
   "id": "722ee495",
   "metadata": {},
   "outputs": [],
   "source": [
    "lk_lat = 55.930195540685304\n",
    "lk_lon = 37.5182925079981\n",
    "lk_alt = 193\n",
    "x, y, z = latLonToEcef(lk_lat, lk_lon, lk_alt)"
   ]
  },
  {
   "cell_type": "code",
   "execution_count": 25,
   "id": "17cc8c9c",
   "metadata": {},
   "outputs": [
    {
     "data": {
      "text/plain": [
       "(2840612.5584051693, 2181119.9165616864, 5260252.075030604)"
      ]
     },
     "execution_count": 25,
     "metadata": {},
     "output_type": "execute_result"
    }
   ],
   "source": [
    "x, y, z"
   ]
  },
  {
   "cell_type": "code",
   "execution_count": 26,
   "id": "a09c6a01",
   "metadata": {},
   "outputs": [],
   "source": [
    "import pygeodesy\n",
    "karney = pygeodesy.ecef.EcefKarney(a_ellipsoid=pygeodesy.Ellipsoids.WGS84)\n",
    "\n",
    "ref = karney.forward(lk_lat, lk_lon, lk_alt)\n",
    "x, y, z = latLonToEcef(lk_lat, lk_lon, lk_alt)\n",
    "\n",
    "assert(np.linalg.norm([ref.x - x, ref.y - y, ref.z - z]) < 1)"
   ]
  },
  {
   "cell_type": "code",
   "execution_count": 27,
   "id": "8a7b1ac9",
   "metadata": {},
   "outputs": [],
   "source": [
    "class SatTracker:\n",
    "    def __init__(self, norad_id):\n",
    "        \n",
    "        # Get most recent TLE data from celestrak\n",
    "        r = req.get('https://celestrak.com/satcat/tle.php?CATNR={}'.format(norad_id))\n",
    "        text = r.text\n",
    "        print(text)\n",
    "        lines = text.split('\\r\\n')\n",
    "        self.s = lines[1]\n",
    "        self.t = lines[2]\n",
    "        self.satellite = Satrec.twoline2rv(self.s, self.t)\n",
    "\n",
    "    def latLonToEcef(self, lat, lon, alt):\n",
    "        a = 6378137.0\n",
    "        b = 6356752.3142\n",
    "\n",
    "        rad_lat = np.deg2rad(lat)\n",
    "        rad_lon = np.deg2rad(lon)\n",
    "\n",
    "        N = a ** 2 / np.sqrt(a ** 2 * np.cos(rad_lat) ** 2 + b ** 2 * np.sin(rad_lat) ** 2)\n",
    "\n",
    "        x = (N + alt) * np.cos(rad_lat) * np.cos(rad_lon)\n",
    "        y = (N + alt) * np.cos(rad_lat) * np.sin(rad_lon)\n",
    "        z = (b ** 2 / a ** 2 * N + alt) * np.sin(rad_lat)\n",
    "\n",
    "        return x, y, z\n",
    "    \n",
    "    def siteSatVec(self, satpos, sitepos):\n",
    "        return np.array(satpos) - np.array(sitepos)\n",
    "    \n",
    "    def getSiteSatVec(self, lla, time):\n",
    "        # Local time to UTC\n",
    "        local_time = datetime(time[0], time[1], time[2], time[3], time[4], time[5])\n",
    "        utc_time = local_time.astimezone(pytz.UTC)\n",
    "\n",
    "        # Site coords in ECEF\n",
    "        x, y, z = self.latLonToEcef(lla[0], lla[1], lla[2])\n",
    "\n",
    "        # Julian date from UTC\n",
    "        ts = api.load.timescale()\n",
    "        jd = ts.tt(utc_time.year, utc_time.month, utc_time.day,\n",
    "                   utc_time.hour, utc_time.minute, utc_time.second).tdb\n",
    "\n",
    "        # Coords and speeds in TEME frame\n",
    "        satellite = Satrec.twoline2rv(self.s, self.t)        \n",
    "        e, r, v = satellite.sgp4(jd, 0.0)\n",
    "\n",
    "        v = np.array(v) * 24.0 * 60.0 * 60.0  # km/s to km/day\n",
    "\n",
    "        # Convert TEME(ECI) to ECEF\n",
    "        rITRF, _ = sgp4lib.TEME_to_ITRF(jd, np.array(r), np.array(v))\n",
    "\n",
    "        return self.siteSatVec(rITRF * 1000, [x, y, z])\n",
    "    \n",
    "    def ecefDispToEnu(self, disp, lla):\n",
    "        # https://www.ngs.noaa.gov/CORS/Articles/SolerEisemannJSE.pdf\n",
    "        phi = math.radians(lla[0])\n",
    "        lamb = math.radians(lla[1])\n",
    "        \n",
    "        sin_lambda = math.sin(lamb)\n",
    "        cos_lambda = math.cos(lamb)\n",
    "        sin_phi = math.sin(phi)\n",
    "        cos_phi = math.cos(phi)\n",
    "        \n",
    "        e = -sin_phi * disp[0] + cos_phi * disp[1]\n",
    "        n = -sin_phi * cos_lambda * disp[0] - sin_lambda * sin_phi * disp[1] + cos_phi * disp[2]\n",
    "        u = cos_lambda * cos_phi * disp[0] + cos_phi * sin_lambda * disp[1] + sin_phi * disp[2]\n",
    "        return e, n, u\n",
    "        \n",
    "    def enuToAzimElev(self, enu):\n",
    "        return math.atan2(enu[0], enu[1]), math.atan(enu[2] / math.sqrt(enu[1] ** 2 + enu[0] ** 2))\n",
    "    \n",
    "    def getSatLookAngles(self, lla, time, unit=\"deg\"):\n",
    "        satSiteVec = self.getSiteSatVec(lla, time)\n",
    "        \n",
    "        enu = self.ecefDispToEnu(satSiteVec, lla)\n",
    "        \n",
    "        a, v = self.enuToAzimElev(enu)\n",
    "        \n",
    "        if unit == \"rad\":\n",
    "            return a, v\n",
    "        \n",
    "        return math.degrees(a), math.degrees(v)\n",
    "    \n",
    "    def findIntercepts(self, lla, start_date, end_date, rule=rrule.MINUTELY, plot=True):\n",
    "        dates = [dt for dt in rrule.rrule(rule, dtstart=start_date, until=end_date)]\n",
    "\n",
    "        intercepts = []\n",
    "        is_visible = False\n",
    "        cur = {}\n",
    "        for date in dates:\n",
    "            az, el = self.getSatLookAngles([lla[0], lla[1], lla[2]],\n",
    "                                         [date.year, date.month, date.day,\n",
    "                                          date.hour, date.minute, date.second])\n",
    "            \n",
    "            if not is_visible:\n",
    "                if el > 0:\n",
    "                    cur = {}\n",
    "                    is_visible = True\n",
    "                    cur['start_time'] = date\n",
    "                    cur['start_azim'] = az\n",
    "                    cur['points'] = []\n",
    "                    cur['points'].append({'time': date, 'az': az, 'el': el})\n",
    "            else:\n",
    "                if el > 0:\n",
    "                    cur['points'].append({'time': date, 'az': az, 'el': el})\n",
    "                else:\n",
    "                    is_visible = False\n",
    "                    cur['end_time'] = date\n",
    "                    cur['end_azim'] = az\n",
    "                    cur['points'].append({'time': date, 'az': az, 'el': el})\n",
    "                    cur['max_alt'] = max(cur['points'], key=itemgetter('el'))\n",
    "                    \n",
    "                    intercepts.append(cur)\n",
    "        \n",
    "        if plot:\n",
    "            fig, ax = plt.subplots(subplot_kw={'projection': 'polar'})\n",
    "            for inter in intercepts:\n",
    "                azims = [x['az'] for x in inter['points']]\n",
    "                elevs = [x['el'] for x in inter['points']]\n",
    "                \n",
    "                ax.plot(np.deg2rad(np.array(azims)), np.array(elevs),\n",
    "                        label='From {} to {}'.format(inter['start_time'], inter['end_time']))\n",
    "                \n",
    "            ax.set_theta_zero_location(\"N\")\n",
    "            ax.set_theta_direction(-1)\n",
    "            ax.set_rticks([0, 30, 60, 90])\n",
    "            ax.legend(bbox_to_anchor=(1.02, 1), loc='upper left', borderaxespad=0)\n",
    "\n",
    "            plt.ylim(90, 0)\n",
    "            ax.grid(True)\n",
    "            plt.show() \n",
    "            \n",
    "        return intercepts"
   ]
  },
  {
   "cell_type": "code",
   "execution_count": 28,
   "id": "06309a88",
   "metadata": {},
   "outputs": [
    {
     "name": "stdout",
     "output_type": "stream",
     "text": [
      "NOAA 18                 \r\n",
      "1 28654U 05018A   21329.15689951  .00000088  00000-0  71538-4 0  9994\r\n",
      "2 28654  98.9763  34.5167 0014312 185.0636 175.0393 14.12660176851225\r\n",
      "\n"
     ]
    }
   ],
   "source": [
    "norad_id = 28654\n",
    "tr = SatTracker(norad_id)"
   ]
  },
  {
   "cell_type": "code",
   "execution_count": 29,
   "id": "f5e2efb0",
   "metadata": {},
   "outputs": [
    {
     "name": "stdout",
     "output_type": "stream",
     "text": [
      "-24.650715929670863 13.247970087875512\n"
     ]
    }
   ],
   "source": [
    "az, al = tr.getSatLookAngles([lk_lat, lk_lon, lk_alt], [2021, 11, 25, 14, 5, 0])\n",
    "print(az, al)"
   ]
  },
  {
   "cell_type": "code",
   "execution_count": 30,
   "id": "9e7771d9",
   "metadata": {},
   "outputs": [],
   "source": [
    "start_date = datetime(2021, 11, 25, 13, 30, 0)\n",
    "end_date = datetime(2021, 11, 25, 16, 0, 0)"
   ]
  },
  {
   "cell_type": "code",
   "execution_count": 31,
   "id": "2504e83d",
   "metadata": {
    "scrolled": true
   },
   "outputs": [
    {
     "data": {
      "image/png": "[encoded data removed]",
      "text/plain": [
       "<Figure size 432x288 with 1 Axes>"
      ]
     },
     "metadata": {
      "needs_background": "light"
     },
     "output_type": "display_data"
    }
   ],
   "source": [
    "intercepts = tr.findIntercepts([lk_lat, lk_lon, lk_alt], start_date, end_date, rule=rrule.SECONDLY, plot=True)"
   ]
  },
  {
   "cell_type": "code",
   "execution_count": 32,
   "id": "6392521c",
   "metadata": {},
   "outputs": [
    {
     "name": "stdout",
     "output_type": "stream",
     "text": [
      "{'time': datetime.datetime(2021, 11, 25, 14, 5, 22), 'az': -29.6763932780962, 'el': 13.33938090435674}\n",
      "{'time': datetime.datetime(2021, 11, 25, 15, 43, 39), 'az': 0.27466430698372035, 'el': 4.210066057584927}\n"
     ]
    }
   ],
   "source": [
    "for inter in intercepts:\n",
    "    print(inter['max_alt'])"
   ]
  }
 ],
 "metadata": {
  "kernelspec": {
   "display_name": "Python 3 (ipykernel)",
   "language": "python",
   "name": "python3"
  },
  "language_info": {
   "codemirror_mode": {
    "name": "ipython",
    "version": 3
   },
   "file_extension": ".py",
   "mimetype": "text/x-python",
   "name": "python",
   "nbconvert_exporter": "python",
   "pygments_lexer": "ipython3",
   "version": "3.9.5"
  }
 },
 "nbformat": 4,
 "nbformat_minor": 5
}
